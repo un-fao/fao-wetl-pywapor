{
  "cells": [
    {
      "cell_type": "code",
      "execution_count": null,
      "metadata": {
        "colab": {
          "base_uri": "https://localhost:8080/"
        },
        "id": "_5n5J0aP9nGv",
        "outputId": "401a8ff5-b3ec-44ff-c312-ef23880cb020"
      },
      "outputs": [],
      "source": [
        "!pip install pywapor --quiet\n",
        "!pip uninstall pywapor --yes\n",
        "!git clone https://bert_coerver@bitbucket.org/cioapps/pywapor.git --single-branch -b dev"
      ]
    },
    {
      "cell_type": "code",
      "execution_count": null,
      "metadata": {
        "id": "RJr8XK5eCWRS"
      },
      "outputs": [],
      "source": [
        "# COPY PASSWORDS"
      ]
    },
    {
      "cell_type": "code",
      "execution_count": 2,
      "metadata": {
        "id": "xjconqSp_zwP"
      },
      "outputs": [],
      "source": [
        "import os\n",
        "os.environ['PYTHONPATH'] += \":/content/pywapor\""
      ]
    },
    {
      "cell_type": "code",
      "execution_count": 3,
      "metadata": {
        "id": "bcOcc0UY3lcr"
      },
      "outputs": [],
      "source": [
        "import pywapor\n",
        "import requests\n",
        "import zipfile\n",
        "import io\n",
        "import pathlib"
      ]
    },
    {
      "cell_type": "code",
      "execution_count": null,
      "metadata": {
        "colab": {
          "base_uri": "https://localhost:8080/"
        },
        "id": "Uf9Xq3aO4AkI",
        "outputId": "110d1829-2a48-42f3-9793-1e34f4defa16"
      },
      "outputs": [],
      "source": [
        "!pytest --collect-only -q"
      ]
    },
    {
      "cell_type": "code",
      "execution_count": null,
      "metadata": {
        "colab": {
          "base_uri": "https://localhost:8080/"
        },
        "id": "4UyW5tY9AqfM",
        "outputId": "ffef446b-8d4b-430b-8ee5-6d2b3e687639"
      },
      "outputs": [],
      "source": [
        "!pytest pywapor/tests/collect_test.py::test_small --basetemp \"/content/test_out\""
      ]
    },
    {
      "cell_type": "code",
      "execution_count": null,
      "metadata": {
        "id": "fumR-PNi_k-r"
      },
      "outputs": [],
      "source": [
        "zip_file_url = \"https://storage.googleapis.com/fao-cog-data/pywapor_test_data/test_data.zip\"\n",
        "test_data_folder = pathlib.Path(pywapor.__path__[0]).parent.joinpath(\"test_data\")\n",
        "r = requests.get(zip_file_url)\n",
        "z = zipfile.ZipFile(io.BytesIO(r.content))\n",
        "z.extractall(test_data_folder)"
      ]
    },
    {
      "cell_type": "code",
      "execution_count": null,
      "metadata": {
        "id": "mfT-W7Z7IMIl"
      },
      "outputs": [],
      "source": [
        "!pytest pywapor/tests/main_test.py::test_pre_se_root[fayoum] --basetemp \"/content/test_out\"\n",
        "!pytest pywapor/tests/main_test.py::test_se_root[fayoum] --basetemp \"/content/test_out\"\n",
        "!pytest pywapor/tests/main_test.py::test_pre_et_look[fayoum] --basetemp \"/content/test_out\"\n",
        "!pytest pywapor/tests/main_test.py::test_et_look[fayoum] --basetemp \"/content/test_out\""
      ]
    }
  ],
  "metadata": {
    "colab": {
      "provenance": []
    },
    "kernelspec": {
      "display_name": "Python 3",
      "name": "python3"
    },
    "language_info": {
      "name": "python"
    }
  },
  "nbformat": 4,
  "nbformat_minor": 0
}
